{
  "nbformat": 4,
  "nbformat_minor": 0,
  "metadata": {
    "colab": {
      "provenance": []
    },
    "kernelspec": {
      "name": "python3",
      "display_name": "Python 3"
    },
    "language_info": {
      "name": "python"
    }
  },
  "cells": [
    {
      "cell_type": "markdown",
      "source": [
        "TAREA - Felipe Gallet\n"
      ],
      "metadata": {
        "id": "Rjq4Qyx-iZsV"
      }
    },
    {
      "cell_type": "markdown",
      "source": [
        "1. Programa que imprima los números del 1 al 100"
      ],
      "metadata": {
        "id": "JKhN2S6djX7C"
      }
    },
    {
      "cell_type": "code",
      "source": [
        "for x in range(100):\n",
        "  print(x+1)"
      ],
      "metadata": {
        "colab": {
          "base_uri": "https://localhost:8080/"
        },
        "id": "ZCxFofJGjdzr",
        "outputId": "94f03c8b-12ba-4878-ae9f-f7a1c38a4301"
      },
      "execution_count": null,
      "outputs": [
        {
          "output_type": "stream",
          "name": "stdout",
          "text": [
            "1\n",
            "2\n",
            "3\n",
            "4\n",
            "5\n",
            "6\n",
            "7\n",
            "8\n",
            "9\n",
            "10\n",
            "11\n",
            "12\n",
            "13\n",
            "14\n",
            "15\n",
            "16\n",
            "17\n",
            "18\n",
            "19\n",
            "20\n",
            "21\n",
            "22\n",
            "23\n",
            "24\n",
            "25\n",
            "26\n",
            "27\n",
            "28\n",
            "29\n",
            "30\n",
            "31\n",
            "32\n",
            "33\n",
            "34\n",
            "35\n",
            "36\n",
            "37\n",
            "38\n",
            "39\n",
            "40\n",
            "41\n",
            "42\n",
            "43\n",
            "44\n",
            "45\n",
            "46\n",
            "47\n",
            "48\n",
            "49\n",
            "50\n",
            "51\n",
            "52\n",
            "53\n",
            "54\n",
            "55\n",
            "56\n",
            "57\n",
            "58\n",
            "59\n",
            "60\n",
            "61\n",
            "62\n",
            "63\n",
            "64\n",
            "65\n",
            "66\n",
            "67\n",
            "68\n",
            "69\n",
            "70\n",
            "71\n",
            "72\n",
            "73\n",
            "74\n",
            "75\n",
            "76\n",
            "77\n",
            "78\n",
            "79\n",
            "80\n",
            "81\n",
            "82\n",
            "83\n",
            "84\n",
            "85\n",
            "86\n",
            "87\n",
            "88\n",
            "89\n",
            "90\n",
            "91\n",
            "92\n",
            "93\n",
            "94\n",
            "95\n",
            "96\n",
            "97\n",
            "98\n",
            "99\n",
            "100\n"
          ]
        }
      ]
    },
    {
      "cell_type": "markdown",
      "source": [
        "2. Programa que imprima los números del 1 al 100 que sean divisibles entre 3"
      ],
      "metadata": {
        "id": "IlWh3x02kvNz"
      }
    },
    {
      "cell_type": "code",
      "source": [
        "for x in range(100):\n",
        "  if (x + 1) % 3 == 0:\n",
        "    print(x + 1)"
      ],
      "metadata": {
        "colab": {
          "base_uri": "https://localhost:8080/"
        },
        "id": "aGamGgNUk1ci",
        "outputId": "056219e3-9c3f-40a1-f6da-198aecf967ee"
      },
      "execution_count": null,
      "outputs": [
        {
          "output_type": "stream",
          "name": "stdout",
          "text": [
            "3\n",
            "6\n",
            "9\n",
            "12\n",
            "15\n",
            "18\n",
            "21\n",
            "24\n",
            "27\n",
            "30\n",
            "33\n",
            "36\n",
            "39\n",
            "42\n",
            "45\n",
            "48\n",
            "51\n",
            "54\n",
            "57\n",
            "60\n",
            "63\n",
            "66\n",
            "69\n",
            "72\n",
            "75\n",
            "78\n",
            "81\n",
            "84\n",
            "87\n",
            "90\n",
            "93\n",
            "96\n",
            "99\n"
          ]
        }
      ]
    },
    {
      "cell_type": "markdown",
      "source": [
        "3. Sumador y comparador de número"
      ],
      "metadata": {
        "id": "xzUKXCYkmQga"
      }
    },
    {
      "cell_type": "code",
      "source": [
        "N1 = int(input(\"Ingresa el primer número \"))\n",
        "N2 = 5\n",
        "Suma = N1 + N2\n",
        "Resultado = \"\"\n",
        "\n",
        "if(Suma < 100):\n",
        "  Resultado = \"Menor a 100\"\n",
        "elif(Suma >= 100 and Suma <= 150):\n",
        "  Resultado = \"Mayor a 100\"\n",
        "else:\n",
        "  Resultado = \"Mayor a 150\"\n",
        "\n",
        "print(Resultado)"
      ],
      "metadata": {
        "colab": {
          "base_uri": "https://localhost:8080/"
        },
        "id": "igCjffdXmj7W",
        "outputId": "00e0d881-c52a-4b06-c40f-c359cfd9b4b4"
      },
      "execution_count": null,
      "outputs": [
        {
          "output_type": "stream",
          "name": "stdout",
          "text": [
            "Ingresa el primer número 100\n",
            "Mayor a 100\n"
          ]
        }
      ]
    },
    {
      "cell_type": "markdown",
      "source": [
        "4. Calculador de promedio"
      ],
      "metadata": {
        "id": "V1_jSSIoPXna"
      }
    },
    {
      "cell_type": "code",
      "source": [
        "Edad = int(input(\"Ingresa tu edad \"))\n",
        "Progra = input(\"¿Te gusta la programación? (Si/No) \")\n",
        "Promedio = \"\"\n",
        "\n",
        "if(Edad >= 18 and Progra == \"Si\"):\n",
        "  Promedio = \"Eres mayor de edad y te gusta la programación\"\n",
        "elif(Edad >= 18 and Progra == \"No\"):\n",
        "  Promedio = \"Eres mayor de edad y no te gusta la programación\"\n",
        "elif(Edad < 18 and Progra == \"Si\"):\n",
        "  Promedio = \"No eres mayor de edad y te gusta la programación\"\n",
        "elif(Edad < 18 and Progra == \"No\"):\n",
        "  Promedio = \"No eres mayor de edad y no te gusta la programación\"\n",
        "else:\n",
        "  Promedio = \"Error\"\n",
        "\n",
        "print(Promedio)"
      ],
      "metadata": {
        "colab": {
          "base_uri": "https://localhost:8080/"
        },
        "id": "2nWy8TlOPVx7",
        "outputId": "4ef8260f-73f9-4608-8428-08c3740269ff"
      },
      "execution_count": 12,
      "outputs": [
        {
          "output_type": "stream",
          "name": "stdout",
          "text": [
            "Ingresa tu edad 24\n",
            "¿Te gusta la programación? (Si/No) Si\n",
            "Eres mayor de edad y te gusta la programación\n"
          ]
        }
      ]
    }
  ]
}